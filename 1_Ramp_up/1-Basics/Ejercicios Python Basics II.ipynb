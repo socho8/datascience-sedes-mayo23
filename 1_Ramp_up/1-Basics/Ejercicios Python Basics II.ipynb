{
 "cells": [
  {
   "attachments": {},
   "cell_type": "markdown",
   "metadata": {},
   "source": [
    "![imagen](./img/ejercicios.png)"
   ]
  },
  {
   "attachments": {},
   "cell_type": "markdown",
   "metadata": {},
   "source": [
    "# Ejercicios Python Basics II"
   ]
  },
  {
   "attachments": {},
   "cell_type": "markdown",
   "metadata": {},
   "source": [
    "## Ejercicio 1\n",
    "* Crea dos variables numericas: un `int` y un `float`\n",
    "* Comprueba sus tipos\n",
    "* Sumalas en otra nueva\n",
    "* ¿De qué tipo es la nueva variable?\n",
    "* Elimina las dos primeras variables creadas"
   ]
  },
  {
   "cell_type": "code",
   "execution_count": 17,
   "metadata": {},
   "outputs": [
    {
     "name": "stdout",
     "output_type": "stream",
     "text": [
      "<class 'int'>\n",
      "<class 'float'>\n",
      "<class 'float'>\n"
     ]
    }
   ],
   "source": [
    "num1 = 5\n",
    "print(type(num1))\n",
    "num2 = 6.5\n",
    "print(type(num2))\n",
    "suma = num1 + num2\n",
    "print(type(suma))\n"
   ]
  },
  {
   "attachments": {},
   "cell_type": "markdown",
   "metadata": {},
   "source": [
    "## Ejercicio 2\n",
    "Escribe un programa para pasar de grados a radianes. Hay que usar `input`. Recuerda que la conversión se realiza mediante\n",
    "\n",
    "radianes = grados*(pi/180)"
   ]
  },
  {
   "cell_type": "code",
   "execution_count": 19,
   "metadata": {},
   "outputs": [
    {
     "name": "stdout",
     "output_type": "stream",
     "text": [
      "Calculadora de grados a radianes, porfavor introduce el valor del grado para convertirlo\n",
      "El grado 5 es equivalente a 0.08726646259971647 radianes\n"
     ]
    }
   ],
   "source": [
    "import cmath\n",
    "print(\"Calculadora de grados a radianes, porfavor introduce el valor del grado para convertirlo\")\n",
    "grados = input()\n",
    "gradosF = float(grados)\n",
    "radianes = gradosF*(cmath.pi/180)\n",
    "print(\"El grado %s es equivalente a %s radianes\" %(grados, radianes))\n"
   ]
  },
  {
   "attachments": {},
   "cell_type": "markdown",
   "metadata": {},
   "source": [
    "## Ejercicio 3\n",
    "Escribe un programa que calcule el area de un paralelogramo (base x altura). También con `input`"
   ]
  },
  {
   "cell_type": "code",
   "execution_count": 20,
   "metadata": {},
   "outputs": [
    {
     "name": "stdout",
     "output_type": "stream",
     "text": [
      "Con esta calculadora podras sacar el area de tu paralelogramo\n",
      "El area de tu paralelogramo equivale a 25.0\n"
     ]
    }
   ],
   "source": [
    "print(\"Con esta calculadora podras sacar el area de tu paralelogramo\")\n",
    "base = input(\"Escribe a cuanto equivale la base de tu paralelogramo\")\n",
    "base = float(base)\n",
    "altura = input(\"Escribe a cuanto equivale la altura de tu paralelogramo\")\n",
    "altura = float(altura)\n",
    "area = base * altura\n",
    "print (\"El area de tu paralelogramo equivale a %s\" %(area))"
   ]
  },
  {
   "attachments": {},
   "cell_type": "markdown",
   "metadata": {},
   "source": [
    "## Ejercicio 4\n",
    "Tenemos las siguientes variables:\n",
    "\n",
    "```Python\n",
    "A = 4\n",
    "B = \"Text\"\n",
    "C = 4.1\n",
    "```\n",
    "\n",
    "Comprueba:\n",
    "1. Si A y B son equivalentes\n",
    "2. Si A y C NO son equivalentes\n",
    "3. Si A es mayor que C \n",
    "4. Si C es menor o igual que A\n",
    "5. Si B NO es equivalente a C"
   ]
  },
  {
   "cell_type": "code",
   "execution_count": null,
   "metadata": {},
   "outputs": [],
   "source": [
    "A = 4\n",
    "B = \"Text\"\n",
    "C = 4.1\n",
    "\n",
    "if A == B:\n",
    "    print(True)\n",
    "else:\n",
    "    print(False)\n",
    "\n",
    "if A != C:\n",
    "    print(True)\n",
    "else:\n",
    "    print(False)\n",
    "\n",
    "if A > C:\n",
    "    print(True)\n",
    "else:\n",
    "    print(False)\n",
    "    \n",
    "if C <= A :\n",
    "    print(True)\n",
    "else:\n",
    "    print(False)\n",
    "\n",
    "if B != C:\n",
    "    print(True)\n",
    "else:\n",
    "    print(False)"
   ]
  },
  {
   "attachments": {},
   "cell_type": "markdown",
   "metadata": {},
   "source": [
    "## Ejercicio 5\n",
    "Crea un programa donde se recojan dos inputs del usuario, y el output del programa sea si esos inputs son iguales o no"
   ]
  },
  {
   "cell_type": "code",
   "execution_count": 1,
   "metadata": {},
   "outputs": [
    {
     "name": "stdout",
     "output_type": "stream",
     "text": [
      "False\n"
     ]
    }
   ],
   "source": [
    "nombre = input(\"Hola, como te llamas?\")\n",
    "edad = input(\"Que edad tienes?\")\n",
    "if nombre == edad:\n",
    "    print(\"Son iguales? :\", True)\n",
    "else:\n",
    "    print(\"Son iguales? :\", False)"
   ]
  },
  {
   "attachments": {},
   "cell_type": "markdown",
   "metadata": {},
   "source": [
    "## Ejercicio 6\n",
    "Mismo programa que en 5, pero en esta ocasión tienen que ser tres inputs y dos salidas. Una de las salidas que nos indique si todos son iguales, y la otra si al menos dos inputs sí que lo son"
   ]
  },
  {
   "cell_type": "code",
   "execution_count": 18,
   "metadata": {},
   "outputs": [
    {
     "name": "stdout",
     "output_type": "stream",
     "text": [
      "Todas las salidas son iguales? :  True\n",
      "Alguna variable es igual a otra?: True\n"
     ]
    }
   ],
   "source": [
    "nombre = input(\"Hola, como te llamas?\")\n",
    "edad = input(\"Que edad tienes?\")\n",
    "nacionalidad = input(\"De que nacionalidad eres?\")\n",
    "if nombre == edad == nacionalidad:\n",
    "    print(\"Todas las salidas son iguales? : \", True)\n",
    "else:\n",
    "    print(\"Todas las salidas son iguales? : \", False)\n",
    "\n",
    "if nombre == edad:\n",
    "    print(\"Alguna variable es igual a otra?:\", True)\n",
    "elif nombre == nacionalidad:\n",
    "    print(\"Alguna variable es igual a otra?:\", True)\n",
    "elif edad == nacionalidad:\n",
    "    print(\"Alguna variable es igual a otra?:\", True)\n",
    "else:\n",
    "    print(False)\n"
   ]
  },
  {
   "attachments": {},
   "cell_type": "markdown",
   "metadata": {},
   "source": [
    "## Ejercicio 7\n",
    "Crea un programa que recoja dos inputs. Tiene que comprobar si su suma es igual, superior o inferior a 10"
   ]
  },
  {
   "cell_type": "code",
   "execution_count": 21,
   "metadata": {},
   "outputs": [
    {
     "name": "stdout",
     "output_type": "stream",
     "text": [
      "La suma es mayor que 10\n"
     ]
    }
   ],
   "source": [
    "Num1 = input(\"Dime un numero cualquiera\")\n",
    "Num1 = float(Num1)\n",
    "Num2 = input(\"Dime uno mas porfavor\")\n",
    "Num2 = float(Num2)\n",
    "suma = Num1 + Num2\n",
    "if suma > 10:\n",
    "    print(\"La suma es mayor que 10\")\n",
    "elif suma < 10:\n",
    "    print(\"La suma es menor que 10\")\n",
    "elif suma == 10:\n",
    "    print(\"La suma es igual que 10\")"
   ]
  },
  {
   "attachments": {},
   "cell_type": "markdown",
   "metadata": {},
   "source": [
    "## Ejercicio 8\n",
    "Razona sin ejecutar código el output que obtendremos de las siguientes sentencias\n",
    "1. True and True and False\n",
    "2. not ((True or False) and (True or False))\n",
    "3. (False or False or False or True) and False\n",
    "4. not False and True and not True"
   ]
  },
  {
   "attachments": {},
   "cell_type": "markdown",
   "metadata": {},
   "source": []
  },
  {
   "attachments": {},
   "cell_type": "markdown",
   "metadata": {},
   "source": [
    "1 False\n",
    "2 False\n",
    "3 False\n",
    "4 True"
   ]
  },
  {
   "attachments": {},
   "cell_type": "markdown",
   "metadata": {},
   "source": [
    "## Ejercicio 9\n",
    "Para este ejercicio vamos a poner en práctica [las funciones built in](https://docs.python.org/3/library/functions.html).\n",
    "\n",
    "1. Calcula el máximo de la lista: [4, 6, 8, -1]\n",
    "2. Suma todos los elementos de la lista anterior\n",
    "3. Redondea este float a 3 dígitos decimales: 63.451256965\n",
    "4. Valor absoluto de: -74"
   ]
  },
  {
   "cell_type": "code",
   "execution_count": 16,
   "metadata": {},
   "outputs": [
    {
     "name": "stdout",
     "output_type": "stream",
     "text": [
      "8\n",
      "17\n",
      "63.451\n",
      "74\n"
     ]
    }
   ],
   "source": [
    "lista = [4, 6, 8, -1]\n",
    "print(max(lista))\n",
    "print(sum(lista))\n",
    "print(round(63.451256965, 3))\n",
    "print(abs(-74))"
   ]
  },
  {
   "attachments": {},
   "cell_type": "markdown",
   "metadata": {},
   "source": [
    "## Ejercicio 10\n",
    "Para el siguiente string se pide imprimir por pantalla los siguientes casos\n",
    "\n",
    "    \"En un lugar de la Mancha, de cuyo nombre no quiero acordarme.\"\n",
    "\n",
    "1. Pásalo todo a mayúsculas\n",
    "2. Pásalo todo a minúsculas\n",
    "3. Solo la primera letra de cada palabra en mayúscula, el resto en minúscula\n",
    "4. Crea una lista dividiéndolo por sus espacios\n",
    "5. Sustituye las comas `,` por puntos y comas `;`\n",
    "6. Elimina las `a` minúsculas"
   ]
  },
  {
   "cell_type": "code",
   "execution_count": 4,
   "metadata": {},
   "outputs": [
    {
     "name": "stdout",
     "output_type": "stream",
     "text": [
      "En un lugar de la Mancha, de cuyo nombre no quiero acordarme.\n",
      "EN UN LUGAR DE LA MANCHA, DE CUYO NOMBRE NO QUIERO ACORDARME.\n",
      "en un lugar de la mancha, de cuyo nombre no quiero acordarme.\n",
      "En Un Lugar De La Mancha, De Cuyo Nombre No Quiero Acordarme.\n",
      "['En', 'un', 'lugar', 'de', 'la', 'Mancha,', 'de', 'cuyo', 'nombre', 'no', 'quiero', 'acordarme.']\n",
      "En un lugar de la Mancha; de cuyo nombre no quiero acordarme.\n",
      "En un lugr de l Mnch, de cuyo nombre no quiero cordrme.\n"
     ]
    }
   ],
   "source": [
    "frase = \"En un lugar de la Mancha, de cuyo nombre no quiero acordarme.\"\n",
    "print(frase)\n",
    "print(frase.upper())\n",
    "print(frase.lower())\n",
    "print(frase.title())\n",
    "print(frase.split())\n",
    "print(frase.replace(\",\",\";\"))\n",
    "print(frase.replace(\"a\",\"\"))"
   ]
  },
  {
   "attachments": {},
   "cell_type": "markdown",
   "metadata": {},
   "source": [
    "## Ejercicio 11\n",
    "1. Crea una lista con 3 elementos numéricos\n",
    "2. Añade un cuarto elemento\n",
    "3. Calcula la suma de todos\n",
    "4. Elimina el segundo elemento de la lista\n",
    "5. Añade otro elemento en la posicion 3 de la lista\n",
    "6. Crea otra lista con 4 elementos y concaténala a la que ya tenías."
   ]
  },
  {
   "cell_type": "code",
   "execution_count": 5,
   "metadata": {},
   "outputs": [
    {
     "name": "stdout",
     "output_type": "stream",
     "text": [
      "[5, 9, 3]\n",
      "[5, 9, 3, 8]\n",
      "25\n",
      "[5, 3, 8]\n",
      "[5, 3, 4, 8]\n",
      "[5, 3, 4, 8, 7, 52, 65, 1]\n"
     ]
    }
   ],
   "source": [
    "numeritos = [5, 9, 3]\n",
    "print(numeritos)\n",
    "numeritos.append(8)\n",
    "print(numeritos)\n",
    "print(sum(numeritos))\n",
    "del numeritos[1]\n",
    "print(numeritos)\n",
    "numeritos.insert(2, 4)\n",
    "print(numeritos)\n",
    "listita = [7, 52, 65, 1]\n",
    "print(numeritos + listita)"
   ]
  }
 ],
 "metadata": {
  "kernelspec": {
   "display_name": "Python 3 (ipykernel)",
   "language": "python",
   "name": "python3"
  },
  "language_info": {
   "codemirror_mode": {
    "name": "ipython",
    "version": 3
   },
   "file_extension": ".py",
   "mimetype": "text/x-python",
   "name": "python",
   "nbconvert_exporter": "python",
   "pygments_lexer": "ipython3",
   "version": "3.11.3"
  }
 },
 "nbformat": 4,
 "nbformat_minor": 4
}
